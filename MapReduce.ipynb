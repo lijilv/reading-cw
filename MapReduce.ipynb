{
 "cells": [
  {
   "cell_type": "code",
   "execution_count": 1,
   "metadata": {},
   "outputs": [
    {
     "name": "stdout",
     "output_type": "stream",
     "text": [
      "Passenger(s) with the highest number of flights: ['UES9151GS5']\n",
      "Total flights: 25\n"
     ]
    }
   ],
   "source": [
    "from collections import defaultdict  \n",
    "from concurrent.futures import ThreadPoolExecutor  \n",
    "  \n",
    "# Simulates the Map phase that processes a single row of data  \n",
    "def process_line(line):  \n",
    "    parts = line.strip().split(',')  \n",
    "    passenger_id = parts[0]  \n",
    "    return passenger_id, 1  # Returns increments of the passenger ID and flight count \n",
    "  \n",
    "def map_phase_parallel(passenger_data_file, max_workers):  \n",
    "    passenger_flights = defaultdict(int)  \n",
    "    with open(passenger_data_file, 'r') as file:  \n",
    "        with ThreadPoolExecutor(max_workers=max_workers) as executor:   \n",
    "            tasks = (line for line in file) \n",
    "            for result in executor.map(process_line, tasks):  \n",
    "                passenger_id, increment = result  \n",
    "                passenger_flights[passenger_id] += increment  \n",
    "    return passenger_flights  \n",
    "\n",
    "def reduce_phase(passenger_flights):  \n",
    "    max_flights = 0  \n",
    "    max_flights_passengers = []  \n",
    "    for passenger_id, flight_count in passenger_flights.items():  \n",
    "        if flight_count > max_flights:  \n",
    "            max_flights = flight_count  \n",
    "            max_flights_passengers = [passenger_id]  \n",
    "        elif flight_count == max_flights:  \n",
    "            max_flights_passengers.append(passenger_id)  \n",
    "    return max_flights, max_flights_passengers  \n",
    "   \n",
    "def main():  \n",
    "    passenger_data_file = 'C:/Users/Administrator/Desktop/李锦怡研一（下）/大数据与云计算/cw/coursework/AComp_Passenger_data_no_error(1).csv' \n",
    "    max_workers = 4  # Suppose I want four worker threads  \n",
    "    passenger_flights = map_phase_parallel(passenger_data_file, max_workers) # Execute the Map phase (parallelization) \n",
    "    max_flights, max_flights_passengers = reduce_phase(passenger_flights) # Perform Reduce phase \n",
    "    print(f\"Passenger(s) with the highest number of flights: {max_flights_passengers}\") # Output result \n",
    "    print(f\"Total flights: {max_flights}\")  \n",
    "  \n",
    "if __name__ == '__main__':  \n",
    "    main()"
   ]
  },
  {
   "cell_type": "code",
   "execution_count": null,
   "metadata": {},
   "outputs": [],
   "source": []
  }
 ],
 "metadata": {
  "kernelspec": {
   "display_name": "Python 3",
   "language": "python",
   "name": "python3"
  },
  "language_info": {
   "codemirror_mode": {
    "name": "ipython",
    "version": 3
   },
   "file_extension": ".py",
   "mimetype": "text/x-python",
   "name": "python",
   "nbconvert_exporter": "python",
   "pygments_lexer": "ipython3",
   "version": "3.6.5"
  }
 },
 "nbformat": 4,
 "nbformat_minor": 5
}
